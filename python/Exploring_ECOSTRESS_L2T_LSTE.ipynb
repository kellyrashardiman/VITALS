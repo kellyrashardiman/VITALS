{
 "cells": [
  {
   "cell_type": "markdown",
   "metadata": {
    "tags": []
   },
   "source": [
    "# Exploring ECOSTRESS L2T LSTE \n",
    "\n",
    "**Summary**  \n",
    "\n",
    "This notebook will show how to access [ECOsystem Spaceborne Thermal Radiometer Experiment on Space Station (ECOSTRESS)](https://ecostress.jpl.nasa.gov/) data programmatically using the [`earthaccess`](https://github.com/nsidc/earthaccess) python library leaveraging NASA's Common Metadata Repository (CMR) and enabling authentication, searching, downloading, and streaming of data with minimal coding. It also shows how to work with ECOSTRESS Tiled Land Surface Temperature and Emissivity ([`ECOSTRESS_L2T_LSTE`](https://doi.org/10.5067/ECOSTRESS/ECO_L2T_LSTE.002)) product hosted in the cloud and managed by the Land Processes Distributed Active Archive Center ([LP DAAC](https://lpdaac.usgs.gov/)). \n",
    "\n",
    "**Learning Objectives**  \n",
    "\n",
    "- How to search ECOSTRESS data using `earthaccess`\n",
    "- How to stream or download ECOSTRESS data\n",
    "- How to clip ECOSTRESS data to a Region of Interest (ROI)\n",
    "- How to quality filter ECOSTRESS data\n",
    "- How to export the processed ECOSTRESS data\n",
    "\n",
    "\n",
    "**Requirements**  \n",
    "\n",
    "- NASA [Earthdata Login](https://urs.earthdata.nasa.gov/) account. If you do not have an Earthdata Account, you can create one [here](https://urs.earthdata.nasa.gov/users/new). "
   ]
  },
  {
   "cell_type": "markdown",
   "metadata": {},
   "source": [
    "## Setup \n",
    "\n",
    "Import the required libraries."
   ]
  },
  {
   "cell_type": "code",
   "execution_count": null,
   "metadata": {
    "tags": []
   },
   "outputs": [],
   "source": [
    "# Import Packages\n",
    "import os\n",
    "import earthaccess\n",
    "import numpy as np\n",
    "import rasterio as rio\n",
    "import rioxarray as rxr\n",
    "import xarray as xr\n",
    "import hvplot.xarray\n",
    "import hvplot.pandas\n",
    "import geopandas as gp\n",
    "from shapely.geometry import box\n",
    "import pandas as pd\n",
    "import panel as pn"
   ]
  },
  {
   "cell_type": "markdown",
   "metadata": {},
   "source": [
    "## Authentication\n",
    "\n",
    "Log into Earthdata using the `Auth` and `login` functions from the `earthaccess` library. The `persist=True` argument will create a local `.netrc` file if it doesn't exist, or add your login info to an existing `.netrc` file. If no Earthdata Login credentials are found in the `.netrc`, you'll be prompted for them.\n"
   ]
  },
  {
   "cell_type": "code",
   "execution_count": null,
   "metadata": {},
   "outputs": [],
   "source": [
    "auth = earthaccess.login(persist = True)\n",
    "# are we authenticated?\n",
    "print(auth.authenticated)"
   ]
  },
  {
   "cell_type": "markdown",
   "metadata": {},
   "source": [
    "## Search for ECOSTRESS Data\n",
    "\n",
    "In this example, we will use the cloud-hosted `ECOSTRESS_L2T_LSTE` product but the searching process can be used with other EMIT or ECOSTRESS products, other collections, or different data providers, as well as across multiple catalogs with some modification.  The Land Surface Temperature and Emissivity values from ECOSTRESS Level 2 Tiled Land Surface Temperature (ECO_L2T_LSTE) are derived from five thermal infrared (TIR) bands using a physics-based Temperature and Emissivity Separation (TES) algorithm. This tiled data product uses a modified version of the Military Grid Reference System (MGRS) which divides Universal Transverse Mercator (UTM) zones into square tiles that are 109.8 km by 109.8 km with a 70 meter (m) spatial resolution. \n",
    "\n",
    "**Define Your Query Parameters**\n",
    "\n",
    "We can search for granules using attributes such as collection short name, collection ID, acquisition time, and spatial footprint.\n"
   ]
  },
  {
   "cell_type": "code",
   "execution_count": null,
   "metadata": {},
   "outputs": [],
   "source": [
    "# Define our study area: Boulder, Colorado\n",
    "# These coordinates define a bounding box around Boulder\n",
    "bbox = (-105.301, 39.957, -105.178, 40.094)\n",
    "print(f\"🎯 Study area: Boulder, Colorado\")\n",
    "print(f\"📍 Bounding box: {bbox}\")\n",
    "\n",
    "# Create a simple polygon for our study area (for visualization)\n",
    "bbox_geom = box(*bbox)\n",
    "study_area = gp.GeoDataFrame([1], geometry=[bbox_geom], crs='EPSG:4326')\n",
    "study_area['name'] = 'Boulder, CO'\n",
    "\n",
    "# Let's visualize our study area\n",
    "study_area.hvplot(\n",
    "    tiles='ESRI', geo=True, fill_alpha=0, line_color='red', line_width=2,\n",
    "    frame_height=400, frame_width=600, title='Study Area: Boulder, Colorado'\n",
    ")"
   ]
  },
  {
   "cell_type": "markdown",
   "metadata": {},
   "source": [
    "Below, the  parameters including `provider`, `short_name`, `version`, `bounding_box`, `temporal` and `count` are used for our query.  "
   ]
  },
  {
   "cell_type": "markdown",
   "metadata": {},
   "source": [
    "Next, get the downloadable links for LST and quality layers using `data_links()` method from `earthaccess`. "
   ]
  },
  {
   "cell_type": "code",
   "execution_count": null,
   "metadata": {},
   "outputs": [],
   "source": [
    "# Search for data using this bbox\n",
    "results = earthaccess.search_data(\n",
    "    provider='LPCLOUD',\n",
    "    short_name='ECO_L2T_LSTE',\n",
    "    version='002',\n",
    "    bounding_box=bbox,\n",
    "    temporal=('2023-07-01','2023-08-01'),\n",
    "    count=100\n",
    ")"
   ]
  },
  {
   "cell_type": "markdown",
   "metadata": {},
   "source": [
    "Next, get the downloadable links for LSTE, quality, and cloud layers using data_links() method from earthaccess."
   ]
  },
  {
   "cell_type": "code",
   "execution_count": null,
   "metadata": {},
   "outputs": [],
   "source": [
    "# Get links\n",
    "lst_links = [l for dl in results for l in dl.data_links() if 'LST.tif' in l]\n",
    "# Show first 5\n",
    "lst_links[:5]"
   ]
  },
  {
   "cell_type": "code",
   "execution_count": null,
   "metadata": {},
   "outputs": [],
   "source": [
    "qc_links = [l for dl in results for l in dl.data_links() if 'QC.tif' in l]\n",
    "qc_links[:5]"
   ]
  },
  {
   "cell_type": "code",
   "execution_count": null,
   "metadata": {},
   "outputs": [],
   "source": [
    "cl_links = [l for dl in results for l in dl.data_links() if 'cloud.tif' in l]\n",
    "cl_links[:5]"
   ]
  },
  {
   "cell_type": "markdown",
   "metadata": {},
   "source": [
    "Let's take a look at the ECOSTRESS tiled data file name:  \n",
    "\n",
    "        Filename: **ECOv002_L2T_LSTE_28527_009_13TDE_20230718T081442_0710_01_LST.tif**   \n",
    "\n",
    "        ECO : Sensor  \n",
    "        v002 : Product Version  \n",
    "        L2T : Processing Level and Type (T = Tile)  \n",
    "        LSTE : Geophysical Parameter  \n",
    "        28527 : Orbit Number  \n",
    "        009 : Scene ID  \n",
    "        13TDE : Military Grid Reference System (MGRS) Tile ID  \n",
    "        20230718 : Date of Acquisition (YYYYMMDD)  \n",
    "        T081442 : Time of Acquisition (HHMMSS) (in UTC)  \n",
    "        0710 : Build ID of software that generated product, Major+Minor (2+2 digits)  \n",
    "        01 : Product Iteration Number  \n",
    "        LST : Layer/band Name (each layer is a separate file)  \n",
    "        .tif : Data Format for Tile  \n",
    "\n",
    "\n",
    "Looking at Military Grid Reference System (MGRS) Tile ID of the outputs, they are all all in UTM Zone 13. "
   ]
  },
  {
   "cell_type": "markdown",
   "metadata": {},
   "source": [
    "## Accessing ECOSTRESS L2T Land Surface Temperature\n",
    "\n",
    "ECOSTRESS data is stored in NASA's Earthdata Cloud and can be accessed in different ways.\n",
    "\n",
    "**Downloading** – This has been a supported option since the inception of NASA's DAACs. Users can use the data link(s) to download files to their local working environment. This method works in both cloud and non-cloud environments.\n",
    "\n",
    "**Streaming** – Streaming enables on-the-fly reading of remote files (i.e., files not saved locally). However, the accessed data must fit into the workspace’s memory. Streaming works in both cloud and non-cloud environments. Streaming data stored in the cloud without downloading is called **in-place access or direct S3 access**, this is only available when working in a cloud environment deployed in AWS us-west-2.\n",
    "\n",
    "The Python libraries used to access COG files in Earthdata Cloud leverage GDAL's virtual file systems. Whether you are running this code in the Cloud or in a local workspace, GDAL configurations must be set in order to successfully access the ECOSTRESS COG files. For this exercise, we are going to open up a context manager for the notebook using the `rasterio.env` module to store these configurations. The context manager sends this information, including an authentication token or cookie when connecting to a file and can also customize how the file is handled locally. A list of all available config options can be found in the [GDAL config options documentation](https://gdal.org/en/stable/user/configoptions.html).\n",
    "\n",
    "While the context manager is open (env.enter()) we will be able to run the open or get data commands that would typically be executed within a \"with\" statement. Entering the context manager for multiple cells of the notebook allows us to more freely interact with the data. We’ll close the context manager (env.exit()) when we have all of the data loaded into memory.\n",
    "\n",
    "In this example, we will show how to stream the data. For that, the gdal configuration is set and the one of our LSTE files is read into the workspace using `open_rasterio` from the `rioxarray` library. Since the file consists of only 1 layer, we can `squeeze` it, removing the `band` dimension."
   ]
  },
  {
   "cell_type": "code",
   "execution_count": null,
   "metadata": {
    "scrolled": true
   },
   "outputs": [],
   "source": [
    "rio_env = rio.Env(GDAL_DISABLE_READDIR_ON_OPEN='EMPTY_DIR',\n",
    "                  GDAL_HTTP_COOKIEFILE=os.path.expanduser('~/cookies.txt'),\n",
    "                  GDAL_HTTP_COOKIEJAR=os.path.expanduser('~/cookies.txt'))\n",
    "rio_env.__enter__()"
   ]
  },
  {
   "cell_type": "code",
   "execution_count": null,
   "metadata": {
    "tags": []
   },
   "outputs": [],
   "source": [
    "eco_lst_ds = rxr.open_rasterio(lst_links[11]).squeeze('band', drop=True)\n",
    "eco_lst_ds"
   ]
  },
  {
   "cell_type": "markdown",
   "metadata": {},
   "source": [
    "As mentioned, the ECOSTRESS product we are using here is tiled and the CRS is dependent on UTM zone. For this tile, we can look at the `spatial_ref` variable through the interactive object above to see details such as the well-known-text (WKT) representation of the CRS and other attributes. \n",
    "we are using `hvplot` for visualization here. For detailed information on available open-source Python tools and libraries for data visualization see <https://pyviz.org/>.\n",
    "\n",
    "Now let's plot the data using `hvplot`. `reproject` function is applied only for the visualization. Make sure to specify the CRS argument within the `hvplot.image` function so the ESRI imagery RBG background tile aligns with our scene.  \n",
    "\n"
   ]
  },
  {
   "cell_type": "code",
   "execution_count": null,
   "metadata": {},
   "outputs": [],
   "source": [
    "size_opts = dict(frame_height=405, frame_width=720, fontscale=2)\n",
    "\n",
    "eco_lst_ds.rio.reproject('EPSG:4326').hvplot.image(x='x', y='y', **size_opts, \n",
    "                                                   cmap='inferno', tiles='ESRI', xlabel='Longitude', \n",
    "                                                   ylabel='Latitude', title='ECOSTRESS LST (K)', \n",
    "                                                   crs='EPSG:4326')*study_area.hvplot(line_color='blue', fill_alpha=0, \n",
    "                                                                                   crs='EPSG:4326')"
   ]
  },
  {
   "cell_type": "markdown",
   "metadata": {},
   "source": [
    "## Cropping ECOSTRESS Data  \n",
    "\n",
    "`clip` function from `rasterio` is used to mask data outside of our region of interest. Before clipping, we need to reproject our ROI to the projection of our dataset which is UTM zone 13N. "
   ]
  },
  {
   "cell_type": "code",
   "execution_count": null,
   "metadata": {
    "scrolled": true
   },
   "outputs": [],
   "source": [
    "study_area"
   ]
  },
  {
   "cell_type": "code",
   "execution_count": null,
   "metadata": {
    "scrolled": true
   },
   "outputs": [],
   "source": [
    "eco_lst_ds.rio.crs"
   ]
  },
  {
   "cell_type": "code",
   "execution_count": null,
   "metadata": {},
   "outputs": [],
   "source": [
    "polygon_reproj = study_area.to_crs(eco_lst_ds.rio.crs)"
   ]
  },
  {
   "cell_type": "code",
   "execution_count": null,
   "metadata": {
    "scrolled": true
   },
   "outputs": [],
   "source": [
    "polygon_reproj.crs"
   ]
  },
  {
   "cell_type": "code",
   "execution_count": null,
   "metadata": {
    "tags": []
   },
   "outputs": [],
   "source": [
    "eco_lst_roi = eco_lst_ds.rio.clip(polygon_reproj.geometry.values, polygon_reproj.crs, all_touched=True)"
   ]
  },
  {
   "cell_type": "code",
   "execution_count": null,
   "metadata": {
    "tags": []
   },
   "outputs": [],
   "source": [
    "eco_lst_roi.hvplot.image(\n",
    "    geo=True,cmap='inferno',**size_opts, tiles='ESRI',alpha=0.8, \n",
    "    title='Cropped ECOSTRESS LST (K)', xlabel='Longitude',ylabel='Latitude', \n",
    "    crs='EPSG:32613')"
   ]
  },
  {
   "cell_type": "markdown",
   "metadata": {},
   "source": [
    "Next, we will repeat the same process for the associated quality layer."
   ]
  },
  {
   "cell_type": "code",
   "execution_count": null,
   "metadata": {},
   "outputs": [],
   "source": [
    "eco_qc_ds = rxr.open_rasterio(qc_links[14]).squeeze('band', drop=True)\n",
    "\n",
    "eco_qc_roi = eco_qc_ds.rio.clip(polygon_reproj.geometry.values, polygon_reproj.crs, all_touched=True) # assign a different value to fill value \n",
    "\n",
    "eco_qc_roi.hvplot.image(\n",
    "    geo=True, cmap='inferno',**size_opts, tiles='ESRI',alpha=0.8, \n",
    "    title='Cropped ECOSTRESS LST (K)', xlabel='Longitude',ylabel='Latitude', \n",
    "    crs='EPSG:32613')"
   ]
  },
  {
   "cell_type": "markdown",
   "metadata": {},
   "source": [
    "## Quality Filtering\n",
    "\n",
    "The quality values are 16 digits bit values with bits 0 and 1 being the mandatory QA flag that will be interpreted as:\n",
    "\n",
    "        00 = Pixel produced, best quality\n",
    "        01 = Pixel produced, nominal quality. Either one or more of the following conditions are met:  \n",
    "\n",
    "                1. emissivity in both bands 4 and 5 < 0.95, i.e. possible cloud contamination  \n",
    "                2. low transmissivity due to high water vapor loading (<0.4), check PWV values and error estimates  \n",
    "                3. Pixel falls on missing scan line in bands 1&5, and filled using spatial neural net. Check error estimates  \n",
    "                Recommend more detailed analysis of other QC information  \n",
    "        10 = Pixel produced, but cloud detected  \n",
    "        11 = Pixel not produced due to missing/bad data, user should check Data quality flag bits  \n",
    "\n",
    "The detailed quality information is provided in  Table 3-5 in ECOSTRESS [Product Specification Document](https://lpdaac.usgs.gov/documents/380/ECO2_PSD_V1.pdf). \n"
   ]
  },
  {
   "cell_type": "markdown",
   "metadata": {},
   "source": [
    "Below, the unique quality values are extracted from the clipped data and only the values showing good quality is kept. "
   ]
  },
  {
   "cell_type": "code",
   "execution_count": null,
   "metadata": {},
   "outputs": [],
   "source": [
    "quality_vals = np.unique(eco_qc_roi.values).tolist()\n",
    "good_q = [q for q in quality_vals if np.binary_repr(q, width=16)[-2:] == '00']\n",
    "good_q\n"
   ]
  },
  {
   "cell_type": "markdown",
   "metadata": {},
   "source": [
    "`.where` method is used to filter the quality and keep only the LSTE values generated with the best quality.  "
   ]
  },
  {
   "cell_type": "code",
   "execution_count": null,
   "metadata": {},
   "outputs": [],
   "source": [
    "eco_lst_roi_mask = eco_lst_roi.where(eco_qc_roi.isin(good_q))\n",
    "eco_lst_roi_mask"
   ]
  },
  {
   "cell_type": "markdown",
   "metadata": {},
   "source": [
    "**Important:** \n",
    "<span style=\"color:orange\">\n",
    "There is a known data issue related to quality of ECOSTRESS Tile LSTE version 2 data:   \n",
    "    All users of ECOSTRESS L2 v002 products (ECO_L2T_LSTE, ECO_L2_LSTE, ECO_L2G_LSTE) should be aware that the cloud mask information previously available in the Quality Control (QC) layer in v001, is not available in the v002 QC layer. Instead, users should be using the 'cloud_mask' layer in the L2 LSTE product, or the cloud information in the standard cloud mask products (ECO_L2_CLOUD, ECO_L2T_CLOUD, ECO_L2G_CLOUD) to assess if a  pixel is clear or cloudy (see section 3 of the User Guide).\n",
    "</span>\n",
    "\n",
    "Learn more at the [product CMR page](https://cmr.earthdata.nasa.gov/search/concepts/C2076090826-LPCLOUD.html)\n",
    "\n",
    "To identify clear pixels, you must now apply an extra filtering step.\n",
    "\n",
    "In the cloud mask layer, value zero means absence of cloud, and one means presence of cloud. \n",
    "\n",
    "When processing, ensure you retain only pixels with a value of 0 in the cloud mask layer to exclude cloudy pixels."
   ]
  },
  {
   "cell_type": "code",
   "execution_count": null,
   "metadata": {},
   "outputs": [],
   "source": [
    "eco_cl_ds = rxr.open_rasterio(cl_links[14]).squeeze('band', drop=True)\n",
    "eco_cl_roi = eco_cl_ds.rio.clip(polygon_reproj.geometry.values, polygon_reproj.crs, all_touched=True) \n",
    "cloud_vals = np.unique(eco_cl_roi.values).tolist()\n",
    "cloud_vals\n"
   ]
  },
  {
   "cell_type": "code",
   "execution_count": null,
   "metadata": {},
   "outputs": [],
   "source": [
    "eco_lst_roi_mask_cloud = eco_lst_roi_mask.where(eco_cl_roi.isin([0]))\n"
   ]
  },
  {
   "cell_type": "code",
   "execution_count": null,
   "metadata": {},
   "outputs": [],
   "source": [
    "eco_lst_roi_mask_cloud.hvplot.image(\n",
    "    geo=True,cmap='inferno',**size_opts, tiles='ESRI',alpha=0.9, \n",
    "    title='Quality Masked ECOSTRESS LST (K)', xlabel='Longitude',ylabel='Latitude', \n",
    "    crs='EPSG:4326')"
   ]
  },
  {
   "cell_type": "markdown",
   "metadata": {},
   "source": [
    "# Interactive Map Exploration of Land Surface Temperatures "
   ]
  },
  {
   "cell_type": "code",
   "execution_count": null,
   "metadata": {},
   "outputs": [],
   "source": [
    "def create_simple_thermal_explorer():\n",
    "    \"\"\"Create a simplified thermal explorer with C/F temperature display\"\"\"\n",
    "    \n",
    "    # Temperature unit selector\n",
    "    temp_unit = pn.widgets.RadioButtonGroup(\n",
    "        name=\"Temperature Unit\", \n",
    "        options=['Celsius', 'Fahrenheit', 'Kelvin'],\n",
    "        value='Celsius',\n",
    "        button_type='primary'\n",
    "    )\n",
    "    \n",
    "    # Base data - already quality filtered with your approach\n",
    "    base_data = eco_lst_roi_mask  # Already quality filtered\n",
    "    \n",
    "    # Convert LST data based on selected unit\n",
    "    def get_converted_data(unit):\n",
    "        if unit == 'Celsius':\n",
    "            converted_data = base_data - 273.15  # K to C\n",
    "            unit_label = '°C'\n",
    "            cmap = 'inferno'  # Keeping your original colormap\n",
    "        elif unit == 'Fahrenheit':\n",
    "            converted_data = (base_data - 273.15) * 9/5 + 32  # K to F\n",
    "            unit_label = '°F'\n",
    "            cmap = 'inferno'\n",
    "        else:  # Kelvin (original)\n",
    "            converted_data = base_data\n",
    "            unit_label = 'K'\n",
    "            cmap = 'inferno'\n",
    "        \n",
    "        return converted_data, unit_label, cmap\n",
    "    \n",
    "    # Create the plot\n",
    "    def create_plot(unit):\n",
    "        converted_data, unit_label, cmap = get_converted_data(unit)\n",
    "        \n",
    "        # Plot settings - using your size_opts\n",
    "        size_opts = dict(frame_height=500, frame_width=800, fontscale=1.2)\n",
    "        \n",
    "        # Create the main plot - using geo=True for proper projection\n",
    "        plot = converted_data.hvplot.image(\n",
    "            geo=True,  # Important for geographic display\n",
    "            cmap=cmap,\n",
    "            title=f'ECOSTRESS Land Surface Temperature ({unit_label})',\n",
    "            xlabel='Longitude', \n",
    "            ylabel='Latitude',\n",
    "            colorbar=True,\n",
    "            tiles='ESRI',  # Keep background tiles\n",
    "            alpha=0.9,     # Semi-transparency\n",
    "            crs='EPSG:4326',  # Ensure correct CRS\n",
    "            **size_opts\n",
    "        )\n",
    "        \n",
    "        return plot\n",
    "    \n",
    "    # Create statistics panel\n",
    "    def create_simple_stats(unit):\n",
    "        converted_data, unit_label, _ = get_converted_data(unit)\n",
    "        \n",
    "        # Calculate stats on valid (non-NaN) data only\n",
    "        valid_data = converted_data.values[~np.isnan(converted_data.values)]\n",
    "        \n",
    "        if len(valid_data) > 0:\n",
    "            stats = {\n",
    "                'Minimum': f\"{np.min(valid_data):.1f} {unit_label}\",\n",
    "                'Maximum': f\"{np.max(valid_data):.1f} {unit_label}\",\n",
    "                'Mean': f\"{np.mean(valid_data):.1f} {unit_label}\",\n",
    "                'Standard Deviation': f\"{np.std(valid_data):.1f} {unit_label}\",\n",
    "                'Valid Pixels': f\"{len(valid_data)} pixels\",\n",
    "                'Coverage': f\"{(len(valid_data) / (converted_data.shape[0] * converted_data.shape[1]) * 100):.1f}%\"\n",
    "            }\n",
    "        else:\n",
    "            stats = {'Note': 'No valid data found after filtering'}\n",
    "        \n",
    "        stats_html = \"<div style='font-family: Arial; padding: 10px;'>\"\n",
    "        stats_html += f\"<h3>Temperature Statistics ({unit_label}):</h3>\"\n",
    "        for key, value in stats.items():\n",
    "            stats_html += f\"<p><strong>{key}:</strong> {value}</p>\"\n",
    "        stats_html += \"</div>\"\n",
    "        \n",
    "        return pn.pane.HTML(stats_html, width=300)\n",
    "    \n",
    "    # Interactive functions\n",
    "    @pn.depends(temp_unit.param.value)\n",
    "    def interactive_plot(unit_value):\n",
    "        return create_plot(unit_value)\n",
    "    \n",
    "    @pn.depends(temp_unit.param.value)\n",
    "    def interactive_stats(unit_value):\n",
    "        return create_simple_stats(unit_value)\n",
    "    \n",
    "    # Layout\n",
    "    explorer = pn.Column(\n",
    "        \"# ECOSTRESS Thermal Explorer\",\n",
    "        \"### Quality-filtered LST with temperature unit conversion\",\n",
    "        temp_unit,\n",
    "        pn.Row(\n",
    "            interactive_plot,\n",
    "            pn.Column(\n",
    "                interactive_stats,\n",
    "                pn.pane.Markdown(\"\"\"\n",
    "                **About the data:**\n",
    "                - Only using highest quality pixels (QA = '00')\n",
    "                - Land Surface Temperature from ECOSTRESS\n",
    "                - Toggle between temperature units as needed\n",
    "                \"\"\")\n",
    "            )\n",
    "        )\n",
    "    )\n",
    "    \n",
    "    return explorer\n",
    "\n",
    "# Create and display the explorer\n",
    "simple_explorer = create_simple_thermal_explorer()\n",
    "simple_explorer.servable()\n",
    "simple_explorer"
   ]
  },
  {
   "cell_type": "markdown",
   "metadata": {},
   "source": [
    "### 2.3.3 Writing Outputs \n",
    "\n",
    "We now have a ECOSTRESS scene that is clipped to our ROI with only good quality values. Finally, we can save this file locally. "
   ]
  },
  {
   "cell_type": "code",
   "execution_count": null,
   "metadata": {},
   "outputs": [],
   "source": [
    "out_name = f\"../data/{lst_links[14].split('/')[-1].split('.tif')[0]}_clipped.tif\"\n",
    "\n",
    "eco_lst_roi_mask.rio.to_raster(raster_path=out_name, driver='COG')"
   ]
  },
  {
   "cell_type": "markdown",
   "metadata": {},
   "source": [
    "## Contact Info:  \n",
    "\n",
    "Email: LPDAAC@usgs.gov  \n",
    "Voice: +1-866-573-3222  \n",
    "Organization: Land Processes Distributed Active Archive Center (LP DAAC)¹  \n",
    "Website:  <https://www.earthdata.nasa.gov/centers/lp-daac>  \n",
    "\n",
    "¹Work performed under USGS contract G15PD00467 for NASA contract NNG14HH33I. "
   ]
  }
 ],
 "metadata": {
  "kernelspec": {
   "display_name": "lpdaac_vitals",
   "language": "python",
   "name": "python3"
  },
  "language_info": {
   "codemirror_mode": {
    "name": "ipython",
    "version": 3
   },
   "file_extension": ".py",
   "mimetype": "text/x-python",
   "name": "python",
   "nbconvert_exporter": "python",
   "pygments_lexer": "ipython3",
   "version": "3.12.9"
  }
 },
 "nbformat": 4,
 "nbformat_minor": 4
}
